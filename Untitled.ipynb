{
 "cells": [
  {
   "cell_type": "code",
   "execution_count": 2,
   "metadata": {},
   "outputs": [],
   "source": [
    "import numpy as np"
   ]
  },
  {
   "cell_type": "code",
   "execution_count": 10,
   "metadata": {},
   "outputs": [],
   "source": [
    "def generate_points_on_sphere(com_coordinates, num_points):\n",
    "    \"\"\"Generate n points evenly distributed on a sphere centered \n",
    "    on the center of mass of the protein using the Vogel's method\n",
    "    with the golden angle.\n",
    "    \"\"\"\n",
    "    golden_angle = np.pi * (3 - np.sqrt(5))\n",
    "    theta = golden_angle * np.arange(num_points)\n",
    "    # Return evenly spaced numbers over specified interval\n",
    "    spaced_nums = np.linspace(1 - 1.0 / num_points, 1.0 / num_points - 1, num_points)\n",
    "    radius = np.sqrt(1 - spaced_nums * spaced_nums)\n",
    "\n",
    "    # Generate points centered on the center of mass\n",
    "    com_x, com_y, com_z = com_coordinates\n",
    "    points = np.full((num_points, 3), [com_x, com_y, com_z])\n",
    "    points[:,0] = radius * np.cos(theta)\n",
    "    points[:,1] = radius * np.sin(theta)\n",
    "    points[:,2] = spaced_nums\n",
    "    return points\n"
   ]
  },
  {
   "cell_type": "code",
   "execution_count": 11,
   "metadata": {},
   "outputs": [
    {
     "data": {
      "text/plain": [
       "array([[ 0.43588989,  0.        ,  0.9       ],\n",
       "       [-0.52658671,  0.48239656,  0.7       ],\n",
       "       [ 0.0757129 , -0.86270943,  0.5       ],\n",
       "       [ 0.58041368,  0.75704687,  0.3       ],\n",
       "       [-0.97977755, -0.17330885,  0.1       ],\n",
       "       [ 0.83952592, -0.53403767, -0.1       ],\n",
       "       [-0.24764672,  0.92123347, -0.3       ],\n",
       "       [-0.39915719, -0.76855288, -0.5       ],\n",
       "       [ 0.67080958,  0.24497858, -0.7       ],\n",
       "       [-0.40291289,  0.16631658, -0.9       ]])"
      ]
     },
     "execution_count": 11,
     "metadata": {},
     "output_type": "execute_result"
    }
   ],
   "source": [
    "com_coordinates = [0.186, -0.183, 0.268]\n",
    "num_points = 10\n",
    "generate_points_on_sphere(com_coordinates, num_points)"
   ]
  },
  {
   "cell_type": "code",
   "execution_count": 12,
   "metadata": {},
   "outputs": [
    {
     "data": {
      "text/plain": [
       "array([ 0.9,  0.7,  0.5,  0.3,  0.1, -0.1, -0.3, -0.5, -0.7, -0.9])"
      ]
     },
     "execution_count": 12,
     "metadata": {},
     "output_type": "execute_result"
    }
   ],
   "source": [
    "np.linspace(1 - 1.0 / num_points, 1.0 / num_points - 1, num_points)"
   ]
  },
  {
   "cell_type": "code",
   "execution_count": 14,
   "metadata": {},
   "outputs": [],
   "source": [
    "spaced_nums = np.linspace(1 - 1.0 / num_points, 1.0 / num_points - 1, num_points)\n",
    "radius = np.sqrt(1 - spaced_nums * spaced_nums)"
   ]
  },
  {
   "cell_type": "code",
   "execution_count": 15,
   "metadata": {},
   "outputs": [
    {
     "data": {
      "text/plain": [
       "array([ 0.43588989,  0.71414284,  0.8660254 ,  0.9539392 ,  0.99498744,\n",
       "        0.99498744,  0.9539392 ,  0.8660254 ,  0.71414284,  0.43588989])"
      ]
     },
     "execution_count": 15,
     "metadata": {},
     "output_type": "execute_result"
    }
   ],
   "source": [
    "radius"
   ]
  },
  {
   "cell_type": "code",
   "execution_count": 16,
   "metadata": {},
   "outputs": [
    {
     "data": {
      "text/plain": [
       "array([ 0.9,  0.7,  0.5,  0.3,  0.1, -0.1, -0.3, -0.5, -0.7, -0.9])"
      ]
     },
     "execution_count": 16,
     "metadata": {},
     "output_type": "execute_result"
    }
   ],
   "source": [
    "np.linspace(1 - 1.0 / num_points, 1.0 / num_points - 1, num_points)"
   ]
  },
  {
   "cell_type": "code",
   "execution_count": 22,
   "metadata": {},
   "outputs": [
    {
     "data": {
      "text/plain": [
       "array([ 0.43588989,  0.43588989,  0.71414284,  0.71414284,  0.8660254 ,\n",
       "        0.8660254 ,  0.9539392 ,  0.9539392 ,  0.99498744,  0.99498744])"
      ]
     },
     "execution_count": 22,
     "metadata": {},
     "output_type": "execute_result"
    }
   ],
   "source": [
    "np.sort(np.sqrt(1 - spaced_nums * spaced_nums))"
   ]
  },
  {
   "cell_type": "code",
   "execution_count": null,
   "metadata": {},
   "outputs": [],
   "source": []
  }
 ],
 "metadata": {
  "kernelspec": {
   "display_name": "Python 3",
   "language": "python",
   "name": "python3"
  },
  "language_info": {
   "codemirror_mode": {
    "name": "ipython",
    "version": 3
   },
   "file_extension": ".py",
   "mimetype": "text/x-python",
   "name": "python",
   "nbconvert_exporter": "python",
   "pygments_lexer": "ipython3",
   "version": "3.6.4"
  }
 },
 "nbformat": 4,
 "nbformat_minor": 2
}
