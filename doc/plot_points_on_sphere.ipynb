{
 "cells": [
  {
   "cell_type": "code",
   "execution_count": 1,
   "metadata": {},
   "outputs": [],
   "source": [
    "%matplotlib ipympl\n",
    "#%matplotlib inline\n",
    "import numpy as np\n",
    "import Bio\n",
    "import matplotlib.pyplot as plt\n",
    "from mpl_toolkits.mplot3d import Axes3D"
   ]
  },
  {
   "cell_type": "code",
   "execution_count": 2,
   "metadata": {},
   "outputs": [],
   "source": [
    "# pymol center of mass calculated for 1uaz_tm.pdb\n",
    "com_coordinates = [0.186, -0.183, 0.268]"
   ]
  },
  {
   "cell_type": "code",
   "execution_count": 3,
   "metadata": {},
   "outputs": [],
   "source": [
    "prot_1uaz_points = np.array([[-2.0070, -16.9319, 22.7405],\n",
    "[1.6620, -15.8479, 22.2735],\n",
    "[3.0610, -13.4129, 19.6555],\n",
    "[5.5560, -14.0139, 16.8455],\n",
    "[8.4480, -11.7299, 16.0045],\n",
    "[10.9380, -10.3579, 18.4865],\n",
    "[11.5950, -7.2829, 20.6065],\n",
    "[14.6500, -6.1599, 18.6075],\n",
    "[14.7030, -2.9749, 20.6745],\n",
    "[13.6490, -4.2469, 24.0795],\n",
    "[10.7540, -1.8029, 24.1035],\n",
    "[7.9120, -4.2999, 24.5735],\n",
    "[8.0090, -7.6909, 19.1125],\n",
    "[12.6010, -7.1209, 7.5685],\n",
    "[15.3110, -4.3249, 4.8195],\n",
    "[13.0760, -5.6069, 2.0305],\n",
    "[14.9820, -0.7629, 0.5355],\n",
    "[16.3260, -3.8649, -1.2635],\n",
    "[17.4570, 0.4621, -4.7865],\n",
    "[17.0550, -2.5489, -6.9715],\n",
    "[17.4350, 2.4061, -8.9685],\n",
    "[20.3340, 0.2181, -9.9985],\n",
    "[18.1940, -1.2479, -12.7975],\n",
    "[19.7680, 4.1441, -14.7815],\n",
    "[20.8440, 2.8941, -18.1725],\n",
    "[18.0940, 5.5601, -22.8015],\n",
    "[14.3130, 5.7931, -23.1315],\n",
    "[12.0690, 8.5291, -21.7145],\n",
    "[8.7430, 6.7351, -21.2875],\n",
    "[12.2510, 6.3771, -17.2855],\n",
    "[9.0270, 8.0741, -16.2905],\n",
    "[10.7770, 7.5731, -11.3285],\n",
    "[9.2890, 6.2341, -4.8765],\n",
    "[11.1180, 5.4731, 5.0925],\n",
    "[12.1740, 2.5441, 9.3555],\n",
    "[11.9430, 3.0421, 15.9185],\n",
    "[8.4390, 3.7711, 17.1285],\n",
    "[8.1250, 7.0541, 15.3075],\n",
    "[-1.8130, 5.2261, 21.4105],\n",
    "[-7.8260, 4.9591, 23.4415],\n",
    "[-12.8410, 2.1581, 25.9835],\n",
    "[-10.9420, 0.3731, 28.7065],\n",
    "[-8.2750, -0.7429, 26.1695],\n",
    "[-5.2730, 1.0241, 24.6495],\n",
    "[-0.9840, 0.7251, 19.5595],\n",
    "[-0.1440, 5.8601, 11.9195],\n",
    "[1.1210, 8.5421, 5.6565],\n",
    "[-1.3650, 8.2011, 1.2855],\n",
    "[1.6070, 8.6231, -1.0055],\n",
    "[-3.1300, 6.8831, -20.7295],\n",
    "[-7.2160, 12.3291, -19.0385],\n",
    "[-6.3750, 14.0911, -15.7775],\n",
    "[-10.0930, 14.1791, -15.0395],\n",
    "[-9.7820, 10.4341, -14.5225],\n",
    "[-7.6070, 13.3431, -10.5385],\n",
    "[-10.6110, 11.2231, -9.6765],\n",
    "[-8.8980, 11.6741, -5.2775],\n",
    "[-10.0010, 9.7211, 0.5065],\n",
    "[-7.3740, 9.5301, 5.0035],\n",
    "[-9.7920, 8.6361, 10.8345],\n",
    "[-7.7610, 7.1961, 15.6495],\n",
    "[-12.5340, 6.3201, 20.0745],\n",
    "[-15.8810, 4.6481, 19.4875],\n",
    "[-15.9850, 0.9991, 18.3645],\n",
    "[-18.9740, 1.9791, 16.2595],\n",
    "[-16.1650, 0.4001, 12.1065],\n",
    "[-18.1530, 3.1201, 10.4055],\n",
    "[-15.1280, 4.8211, 8.9165],\n",
    "[-16.7850, 0.7661, 6.0265],\n",
    "[-16.5540, 4.1031, 4.2485],\n",
    "[-16.5320, 1.4981, -0.1885],\n",
    "[-14.3370, -0.4269, -4.2115],\n",
    "[-14.8870, 2.7291, -6.2045],\n",
    "[-14.1990, -0.2949, -9.7485],\n",
    "[-11.4530, -2.8389, -13.7735],\n",
    "[-13.8080, -1.0039, -16.1395],\n",
    "[-13.0100, 2.5151, -17.2275],\n",
    "[-9.1930, -1.9149, -17.8125],\n",
    "[-10.7090, -1.2539, -21.2365],\n",
    "[-7.1160, -2.7669, -23.9335],\n",
    "[-7.5760, -0.2999, -26.7635],\n",
    "[-3.8220, 0.1451, -26.5615],\n",
    "[-1.2810, -2.6109, -27.3005],\n",
    "[-2.1840, -6.2149, -26.3035],\n",
    "[1.1230, -6.2159, -24.5565],\n",
    "[-1.4970, -8.1539, -21.1005],\n",
    "[-1.7890, -8.4609, -14.8385],\n",
    "[-5.2810, -8.4849, -11.0555],\n",
    "[-7.2980, -6.2969, -6.5665],\n",
    "[-6.1930, -9.4189, -4.7225],\n",
    "[-8.7140, -6.1679, -0.9035],\n",
    "[-6.8370, -8.0459, 1.8055],\n",
    "[-9.9690, -7.4039, 6.2225],\n",
    "[-9.5450, -8.5169, 12.6035],\n",
    "[-10.5770, -3.5929, 14.6805],\n",
    "[-11.9010, -6.7979, 16.2725],\n",
    "[-8.5340, -7.6619, 17.7775],\n",
    "[-8.8850, -11.3409, 17.0265],\n",
    "[-2.2710, -9.9939, 17.5395],\n",
    "[1.0190, -10.0639, 7.1115],\n",
    "[4.1650, -9.1739, 3.2425],\n",
    "[4.2540, -7.6989, -2.5575],\n",
    "[6.3550, -7.2909, -6.5005],\n",
    "[9.1130, -5.5729, -10.5555],\n",
    "[6.3090, -6.9599, -12.7345],\n",
    "[10.3240, -6.1519, -16.2745],\n",
    "[7.8050, -4.2509, -22.3965],\n",
    "[8.4490, 1.3401, -23.4485]])"
   ]
  },
  {
   "cell_type": "code",
   "execution_count": 4,
   "metadata": {},
   "outputs": [],
   "source": [
    "num_pts = 250\n",
    "# Generate n indices on an evenly distributed interval\n",
    "indices = np.arange(0, num_pts, dtype=float) + 0.5\n",
    "golden_angle = np.pi * (3 - np.sqrt(5))\n",
    "# We need only points on an hemisphere instead of whole sphere.\n",
    "phi = np.arccos(1 - indices / num_pts)\n",
    "theta = golden_angle * indices\n",
    "\n",
    "# Translate the spherical coordinates to cartesian 3D coordinates (x, y, z)\n",
    "# Set the radius to 100 angstroms to englobe most of proteins\n",
    "points = np.zeros((num_pts, 3))\n",
    "points[:, 0] = np.cos(theta) * np.sin(phi)\n",
    "points[:, 1] = np.sin(theta) * np.sin(phi)\n",
    "points[:, 2] = np.cos(phi)\n",
    "points = points * 70"
   ]
  },
  {
   "cell_type": "code",
   "execution_count": 5,
   "metadata": {},
   "outputs": [
    {
     "data": {
      "application/vnd.jupyter.widget-view+json": {
       "model_id": "43a7f74b741742fab4a5eff16fc20776",
       "version_major": 2,
       "version_minor": 0
      },
      "text/plain": [
       "FigureCanvasNbAgg()"
      ]
     },
     "metadata": {},
     "output_type": "display_data"
    }
   ],
   "source": [
    "fig = plt.figure()\n",
    "ax = fig.add_subplot(111, projection='3d')\n",
    "ax.scatter(points[:,0], points[:,1], points[:,2])\n",
    "ax.scatter(prot_1uaz_points[:,0], prot_1uaz_points[:,1], prot_1uaz_points[:,2])\n",
    "plt.show()"
   ]
  },
  {
   "cell_type": "code",
   "execution_count": 28,
   "metadata": {},
   "outputs": [
    {
     "data": {
      "application/vnd.jupyter.widget-view+json": {
       "model_id": "0381fa332b324d0da58654334a841e15",
       "version_major": 2,
       "version_minor": 0
      },
      "text/plain": [
       "FigureCanvasNbAgg()"
      ]
     },
     "metadata": {},
     "output_type": "display_data"
    },
    {
     "ename": "ValueError",
     "evalue": "Argument Z must be 2-dimensional.",
     "output_type": "error",
     "traceback": [
      "\u001b[0;31m---------------------------------------------------------------------------\u001b[0m",
      "\u001b[0;31mValueError\u001b[0m                                Traceback (most recent call last)",
      "\u001b[0;32m<ipython-input-28-d3f7f88172ed>\u001b[0m in \u001b[0;36m<module>\u001b[0;34m()\u001b[0m\n\u001b[1;32m     32\u001b[0m \u001b[0;34m\u001b[0m\u001b[0m\n\u001b[1;32m     33\u001b[0m \u001b[0mplt3d\u001b[0m \u001b[0;34m=\u001b[0m \u001b[0mplt\u001b[0m\u001b[0;34m.\u001b[0m\u001b[0mfigure\u001b[0m\u001b[0;34m(\u001b[0m\u001b[0;34m)\u001b[0m\u001b[0;34m.\u001b[0m\u001b[0mgca\u001b[0m\u001b[0;34m(\u001b[0m\u001b[0mprojection\u001b[0m\u001b[0;34m=\u001b[0m\u001b[0;34m'3d'\u001b[0m\u001b[0;34m)\u001b[0m\u001b[0;34m\u001b[0m\u001b[0m\n\u001b[0;32m---> 34\u001b[0;31m \u001b[0mplt3d\u001b[0m\u001b[0;34m.\u001b[0m\u001b[0mplot_surface\u001b[0m\u001b[0;34m(\u001b[0m\u001b[0mX\u001b[0m\u001b[0;34m,\u001b[0m \u001b[0mY\u001b[0m\u001b[0;34m,\u001b[0m \u001b[0mz1\u001b[0m\u001b[0;34m)\u001b[0m\u001b[0;34m\u001b[0m\u001b[0m\n\u001b[0m\u001b[1;32m     35\u001b[0m \u001b[0mplt\u001b[0m\u001b[0;34m.\u001b[0m\u001b[0mshow\u001b[0m\u001b[0;34m(\u001b[0m\u001b[0;34m)\u001b[0m\u001b[0;34m\u001b[0m\u001b[0m\n",
      "\u001b[0;32m~/anaconda3/lib/python3.6/site-packages/mpl_toolkits/mplot3d/axes3d.py\u001b[0m in \u001b[0;36mplot_surface\u001b[0;34m(self, X, Y, Z, *args, **kwargs)\u001b[0m\n\u001b[1;32m   1634\u001b[0m \u001b[0;34m\u001b[0m\u001b[0m\n\u001b[1;32m   1635\u001b[0m         \u001b[0;32mif\u001b[0m \u001b[0mZ\u001b[0m\u001b[0;34m.\u001b[0m\u001b[0mndim\u001b[0m \u001b[0;34m!=\u001b[0m \u001b[0;36m2\u001b[0m\u001b[0;34m:\u001b[0m\u001b[0;34m\u001b[0m\u001b[0m\n\u001b[0;32m-> 1636\u001b[0;31m             \u001b[0;32mraise\u001b[0m \u001b[0mValueError\u001b[0m\u001b[0;34m(\u001b[0m\u001b[0;34m\"Argument Z must be 2-dimensional.\"\u001b[0m\u001b[0;34m)\u001b[0m\u001b[0;34m\u001b[0m\u001b[0m\n\u001b[0m\u001b[1;32m   1637\u001b[0m         \u001b[0;31m# TODO: Support masked arrays\u001b[0m\u001b[0;34m\u001b[0m\u001b[0;34m\u001b[0m\u001b[0m\n\u001b[1;32m   1638\u001b[0m         \u001b[0mX\u001b[0m\u001b[0;34m,\u001b[0m \u001b[0mY\u001b[0m\u001b[0;34m,\u001b[0m \u001b[0mZ\u001b[0m \u001b[0;34m=\u001b[0m \u001b[0mnp\u001b[0m\u001b[0;34m.\u001b[0m\u001b[0mbroadcast_arrays\u001b[0m\u001b[0;34m(\u001b[0m\u001b[0mX\u001b[0m\u001b[0;34m,\u001b[0m \u001b[0mY\u001b[0m\u001b[0;34m,\u001b[0m \u001b[0mZ\u001b[0m\u001b[0;34m)\u001b[0m\u001b[0;34m\u001b[0m\u001b[0m\n",
      "\u001b[0;31mValueError\u001b[0m: Argument Z must be 2-dimensional."
     ]
    }
   ],
   "source": [
    "point  = np.array([2, 2, 2])\n",
    "normal = np.array([1, 1, 1])\n",
    "plane_normal = np.array([5.909, 4.340, 69.615])\n",
    "start_index = 0\n",
    "best_index = 1\n",
    "shortest_distance = 42.35199810695825\n",
    "\n",
    "dist_m1 = 5 * (start_index + 1)\n",
    "# Distance of membrane 2 to best plane\n",
    "dist_m2 = 5 * (best_index + 1)\n",
    "\n",
    "# We generate 2 * 500 dummy points simulating the membranes\n",
    "point1  = np.array([plane_normal[0] + shortest_distance + dist_m1, plane_normal[1] + shortest_distance + dist_m1, plane_normal[2] + shortest_distance + dist_m1])\n",
    "point2  = np.array([plane_normal[0] + shortest_distance + dist_m2, plane_normal[1] + shortest_distance + dist_m2, plane_normal[2] + shortest_distance + dist_m2])\n",
    "\n",
    "d1 = -point1.dot(plane_normal)\n",
    "d2 = -point2.dot(plane_normal)\n",
    "\n",
    "X, Y = np.meshgrid(range(10), range(10))\n",
    "positions = np.vstack([X.ravel(), Y.ravel()])\n",
    "\n",
    "z1 = (-plane_normal[0] * positions[1] - plane_normal[1] * positions[0] - d1) * 1. / plane_normal[2]\n",
    "z2 = (-plane_normal[0] * positions[1] - plane_normal[1] * positions[0] - d2) * 1. / plane_normal[2]\n",
    "\n",
    "points_membrane_1 = points_membrane_2 = np.zeros((100, 3))\n",
    "points_membrane_1[:, 0] = positions[1]\n",
    "points_membrane_1[:, 1] = positions[0]\n",
    "points_membrane_1[:, 2] = z1\n",
    "points_membrane_2[:, 0] = positions[1]\n",
    "points_membrane_2[:, 1] = positions[0]\n",
    "points_membrane_2[:, 2] = z2\n",
    "\n",
    "plt3d = plt.figure().gca(projection='3d')\n",
    "plt3d.plot_surface(X, Y, z1)\n",
    "plt.show()"
   ]
  },
  {
   "cell_type": "code",
   "execution_count": 33,
   "metadata": {},
   "outputs": [
    {
     "data": {
      "text/plain": [
       "array([[0, 1, 2, 3, 4, 5, 6, 7, 8, 9, 0, 1, 2, 3, 4, 5, 6, 7, 8, 9, 0, 1,\n",
       "        2, 3, 4, 5, 6, 7, 8, 9, 0, 1, 2, 3, 4, 5, 6, 7, 8, 9, 0, 1, 2, 3,\n",
       "        4, 5, 6, 7, 8, 9, 0, 1, 2, 3, 4, 5, 6, 7, 8, 9, 0, 1, 2, 3, 4, 5,\n",
       "        6, 7, 8, 9, 0, 1, 2, 3, 4, 5, 6, 7, 8, 9, 0, 1, 2, 3, 4, 5, 6, 7,\n",
       "        8, 9, 0, 1, 2, 3, 4, 5, 6, 7, 8, 9],\n",
       "       [0, 0, 0, 0, 0, 0, 0, 0, 0, 0, 1, 1, 1, 1, 1, 1, 1, 1, 1, 1, 2, 2,\n",
       "        2, 2, 2, 2, 2, 2, 2, 2, 3, 3, 3, 3, 3, 3, 3, 3, 3, 3, 4, 4, 4, 4,\n",
       "        4, 4, 4, 4, 4, 4, 5, 5, 5, 5, 5, 5, 5, 5, 5, 5, 6, 6, 6, 6, 6, 6,\n",
       "        6, 6, 6, 6, 7, 7, 7, 7, 7, 7, 7, 7, 7, 7, 8, 8, 8, 8, 8, 8, 8, 8,\n",
       "        8, 8, 9, 9, 9, 9, 9, 9, 9, 9, 9, 9]])"
      ]
     },
     "execution_count": 33,
     "metadata": {},
     "output_type": "execute_result"
    }
   ],
   "source": [
    "np.vstack([X.ravel(), Y.ravel()])"
   ]
  },
  {
   "cell_type": "code",
   "execution_count": null,
   "metadata": {},
   "outputs": [],
   "source": []
  }
 ],
 "metadata": {
  "kernelspec": {
   "display_name": "Python 3",
   "language": "python",
   "name": "python3"
  },
  "language_info": {
   "codemirror_mode": {
    "name": "ipython",
    "version": 3
   },
   "file_extension": ".py",
   "mimetype": "text/x-python",
   "name": "python",
   "nbconvert_exporter": "python",
   "pygments_lexer": "ipython3",
   "version": "3.6.5"
  }
 },
 "nbformat": 4,
 "nbformat_minor": 2
}
